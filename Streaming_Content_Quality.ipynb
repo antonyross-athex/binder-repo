{
 "cells": [
  {
   "cell_type": "markdown",
   "metadata": {},
   "source": [
    "# Streaming TV Services"
   ]
  },
  {
   "cell_type": "code",
   "execution_count": 1,
   "metadata": {},
   "outputs": [],
   "source": [
    "import pandas as pd"
   ]
  },
  {
   "cell_type": "code",
   "execution_count": 2,
   "metadata": {},
   "outputs": [],
   "source": [
    "df = pd.read_csv(\"streaming_tv.csv\")"
   ]
  },
  {
   "cell_type": "code",
   "execution_count": 3,
   "metadata": {},
   "outputs": [
    {
     "data": {
      "text/html": [
       "<div>\n",
       "<style scoped>\n",
       "    .dataframe tbody tr th:only-of-type {\n",
       "        vertical-align: middle;\n",
       "    }\n",
       "\n",
       "    .dataframe tbody tr th {\n",
       "        vertical-align: top;\n",
       "    }\n",
       "\n",
       "    .dataframe thead th {\n",
       "        text-align: right;\n",
       "    }\n",
       "</style>\n",
       "<table border=\"1\" class=\"dataframe\">\n",
       "  <thead>\n",
       "    <tr style=\"text-align: right;\">\n",
       "      <th></th>\n",
       "      <th>Title</th>\n",
       "      <th>Year</th>\n",
       "      <th>Age</th>\n",
       "      <th>IMDb</th>\n",
       "      <th>Rotten Tomatoes</th>\n",
       "      <th>Netflix</th>\n",
       "      <th>Hulu</th>\n",
       "      <th>Prime Video</th>\n",
       "      <th>Disney+</th>\n",
       "    </tr>\n",
       "  </thead>\n",
       "  <tbody>\n",
       "    <tr>\n",
       "      <th>0</th>\n",
       "      <td>Breaking Bad</td>\n",
       "      <td>2008</td>\n",
       "      <td>18+</td>\n",
       "      <td>9.5</td>\n",
       "      <td>96%</td>\n",
       "      <td>1</td>\n",
       "      <td>0</td>\n",
       "      <td>0</td>\n",
       "      <td>0</td>\n",
       "    </tr>\n",
       "    <tr>\n",
       "      <th>1</th>\n",
       "      <td>Stranger Things</td>\n",
       "      <td>2016</td>\n",
       "      <td>16+</td>\n",
       "      <td>8.8</td>\n",
       "      <td>93%</td>\n",
       "      <td>1</td>\n",
       "      <td>0</td>\n",
       "      <td>0</td>\n",
       "      <td>0</td>\n",
       "    </tr>\n",
       "    <tr>\n",
       "      <th>2</th>\n",
       "      <td>Money Heist</td>\n",
       "      <td>2017</td>\n",
       "      <td>18+</td>\n",
       "      <td>8.4</td>\n",
       "      <td>91%</td>\n",
       "      <td>1</td>\n",
       "      <td>0</td>\n",
       "      <td>0</td>\n",
       "      <td>0</td>\n",
       "    </tr>\n",
       "    <tr>\n",
       "      <th>3</th>\n",
       "      <td>Sherlock</td>\n",
       "      <td>2010</td>\n",
       "      <td>16+</td>\n",
       "      <td>9.1</td>\n",
       "      <td>78%</td>\n",
       "      <td>1</td>\n",
       "      <td>0</td>\n",
       "      <td>0</td>\n",
       "      <td>0</td>\n",
       "    </tr>\n",
       "    <tr>\n",
       "      <th>4</th>\n",
       "      <td>Better Call Saul</td>\n",
       "      <td>2015</td>\n",
       "      <td>18+</td>\n",
       "      <td>8.7</td>\n",
       "      <td>97%</td>\n",
       "      <td>1</td>\n",
       "      <td>0</td>\n",
       "      <td>0</td>\n",
       "      <td>0</td>\n",
       "    </tr>\n",
       "  </tbody>\n",
       "</table>\n",
       "</div>"
      ],
      "text/plain": [
       "              Title  Year  Age  IMDb Rotten Tomatoes  Netflix  Hulu  \\\n",
       "0      Breaking Bad  2008  18+   9.5             96%        1     0   \n",
       "1   Stranger Things  2016  16+   8.8             93%        1     0   \n",
       "2       Money Heist  2017  18+   8.4             91%        1     0   \n",
       "3          Sherlock  2010  16+   9.1             78%        1     0   \n",
       "4  Better Call Saul  2015  18+   8.7             97%        1     0   \n",
       "\n",
       "   Prime Video  Disney+  \n",
       "0            0        0  \n",
       "1            0        0  \n",
       "2            0        0  \n",
       "3            0        0  \n",
       "4            0        0  "
      ]
     },
     "execution_count": 3,
     "metadata": {},
     "output_type": "execute_result"
    }
   ],
   "source": [
    "df.head()"
   ]
  },
  {
   "cell_type": "markdown",
   "metadata": {},
   "source": [
    "### Number of Shows Rated for Each Service"
   ]
  },
  {
   "cell_type": "code",
   "execution_count": 4,
   "metadata": {},
   "outputs": [
    {
     "data": {
      "text/plain": [
       "1931"
      ]
     },
     "execution_count": 4,
     "metadata": {},
     "output_type": "execute_result"
    }
   ],
   "source": [
    "df[\"Netflix\"].sum()"
   ]
  },
  {
   "cell_type": "code",
   "execution_count": 5,
   "metadata": {},
   "outputs": [
    {
     "data": {
      "text/plain": [
       "1754"
      ]
     },
     "execution_count": 5,
     "metadata": {},
     "output_type": "execute_result"
    }
   ],
   "source": [
    "df[\"Hulu\"].sum()"
   ]
  },
  {
   "cell_type": "code",
   "execution_count": 6,
   "metadata": {},
   "outputs": [
    {
     "data": {
      "text/plain": [
       "2144"
      ]
     },
     "execution_count": 6,
     "metadata": {},
     "output_type": "execute_result"
    }
   ],
   "source": [
    "df[\"Prime Video\"].sum()"
   ]
  },
  {
   "cell_type": "code",
   "execution_count": 7,
   "metadata": {},
   "outputs": [
    {
     "data": {
      "text/plain": [
       "180"
      ]
     },
     "execution_count": 7,
     "metadata": {},
     "output_type": "execute_result"
    }
   ],
   "source": [
    "df[\"Disney+\"].sum()"
   ]
  },
  {
   "cell_type": "markdown",
   "metadata": {},
   "source": [
    "### Total Number of Shows Rated"
   ]
  },
  {
   "cell_type": "code",
   "execution_count": 8,
   "metadata": {},
   "outputs": [
    {
     "data": {
      "text/plain": [
       "5611"
      ]
     },
     "execution_count": 8,
     "metadata": {},
     "output_type": "execute_result"
    }
   ],
   "source": [
    "df.shape[0]"
   ]
  },
  {
   "cell_type": "markdown",
   "metadata": {},
   "source": [
    "### Determine the Proportion of Shows That Are Top-Rated"
   ]
  },
  {
   "cell_type": "code",
   "execution_count": 9,
   "metadata": {},
   "outputs": [],
   "source": [
    "def stream_proportions(rater, threshold, streaming_service):\n",
    "    top_rated_count = df.loc[(df[streaming_service]==1) & \n",
    "                             (df[rater] >= threshold), \n",
    "                             streaming_service].count()\n",
    "    lower_rated_count = df.loc[(df[streaming_service]==1) & \n",
    "                               (df[rater] < threshold), \n",
    "                               streaming_service].count()\n",
    "    return top_rated_count, lower_rated_count"
   ]
  },
  {
   "cell_type": "markdown",
   "metadata": {},
   "source": [
    "# IMDb Ratings"
   ]
  },
  {
   "cell_type": "code",
   "execution_count": 10,
   "metadata": {},
   "outputs": [],
   "source": [
    "streaming_services = [\"Netflix\", \"Hulu\", \"Prime Video\", \"Disney+\"]\n",
    "rater = \"IMDb\"\n",
    "threshold = 7\n",
    "\n",
    "N = len(streaming_services)  # number of streaming services\n",
    "\n",
    "num_top_shows = []\n",
    "num_lower_shows = []\n",
    "\n",
    "for service in streaming_services:\n",
    "    proportions = stream_proportions(rater, threshold, service)\n",
    "    num_top_shows.append(proportions[0])\n",
    "    num_lower_shows.append(proportions[1])"
   ]
  },
  {
   "cell_type": "code",
   "execution_count": 11,
   "metadata": {},
   "outputs": [
    {
     "data": {
      "text/plain": [
       "<matplotlib.legend.Legend at 0x7f9f8eceee80>"
      ]
     },
     "execution_count": 11,
     "metadata": {},
     "output_type": "execute_result"
    },
    {
     "data": {
      "image/png": "[encoded data removed]",
      "text/plain": [
       "<Figure size 1296x720 with 1 Axes>"
      ]
     },
     "metadata": {
      "needs_background": "light"
     },
     "output_type": "display_data"
    }
   ],
   "source": [
    "import numpy as np\n",
    "import matplotlib.pyplot as plt\n",
    "    \n",
    "fig, ax = plt.subplots(figsize=(18, 10))\n",
    "\n",
    "index = np.arange(N)    # the x locations for the services\n",
    "width = 0.35       # the width of the bars\n",
    "\n",
    "p1 = ax.bar(index, num_lower_shows, width, color='#A5FFC3', )\n",
    "p2 = ax.bar(index, num_top_shows, width, color='#0AC749', bottom=num_lower_shows)\n",
    "ax.set_ylabel('Count', fontsize=18)\n",
    "ax.set_title(\"The Proportion of a Streaming Service's Shows That Are Highly Rated\", fontsize=18)\n",
    "plt.xticks(index, streaming_services, fontsize=18)\n",
    "plt.legend((p2[0], p1[0]), ('Top', 'Lower'), fontsize=18)\n"
   ]
  },
  {
   "cell_type": "markdown",
   "metadata": {},
   "source": [
    "### Percentage of IMDb Ratings Above 7"
   ]
  },
  {
   "cell_type": "code",
   "execution_count": 12,
   "metadata": {},
   "outputs": [
    {
     "name": "stdout",
     "output_type": "stream",
     "text": [
      "     Netflix: 64%\n",
      "        Hulu: 64%\n",
      " Prime Video: 67%\n",
      "     Disney+: 50%\n"
     ]
    }
   ],
   "source": [
    "for i in range(len(num_top_shows)):\n",
    "    percentage = num_top_shows[i]/(num_top_shows[i] + num_lower_shows[i]) * 100\n",
    "    print(f\"{streaming_services[i]:>12}: {int(percentage)}%\")"
   ]
  },
  {
   "cell_type": "markdown",
   "metadata": {},
   "source": [
    "# Rotten Tomatoes Ratings"
   ]
  },
  {
   "cell_type": "code",
   "execution_count": 13,
   "metadata": {},
   "outputs": [],
   "source": [
    "streaming_services = [\"Netflix\", \"Hulu\", \"Prime Video\", \"Disney+\"]\n",
    "rater = \"Rotten Tomatoes\"\n",
    "threshold = \"70%\"\n",
    "\n",
    "N = len(streaming_services)  # number of streaming services\n",
    "\n",
    "num_top_shows = []\n",
    "num_lower_shows = []\n",
    "\n",
    "for service in streaming_services:\n",
    "    proportions = stream_proportions(rater, threshold, service)\n",
    "    num_top_shows.append(proportions[0])\n",
    "    num_lower_shows.append(proportions[1])"
   ]
  },
  {
   "cell_type": "code",
   "execution_count": 14,
   "metadata": {},
   "outputs": [
    {
     "data": {
      "text/plain": [
       "<matplotlib.legend.Legend at 0x7f9f8f2cdb50>"
      ]
     },
     "execution_count": 14,
     "metadata": {},
     "output_type": "execute_result"
    },
    {
     "data": {
      "image/png": "[encoded data removed]",
      "text/plain": [
       "<Figure size 1296x720 with 1 Axes>"
      ]
     },
     "metadata": {
      "needs_background": "light"
     },
     "output_type": "display_data"
    }
   ],
   "source": [
    "import numpy as np\n",
    "import matplotlib.pyplot as plt\n",
    "    \n",
    "fig, ax = plt.subplots(figsize=(18, 10))\n",
    "\n",
    "index = np.arange(N)    # the x locations for the services\n",
    "width = 0.35       # the width of the bars\n",
    "\n",
    "p1 = ax.bar(index, num_lower_shows, width, color='#A5FFC3', )\n",
    "p2 = ax.bar(index, num_top_shows, width, color='#0AC749', bottom=num_lower_shows)\n",
    "ax.set_ylabel('Count', fontsize=18)\n",
    "ax.set_title(\"The Proportion of a Streaming Service's Shows That Are Highly Rated\", fontsize=18)\n",
    "plt.xticks(index, streaming_services, fontsize=18)\n",
    "plt.legend((p2[0], p1[0]), ('Top', 'Lower'), fontsize=18)\n"
   ]
  },
  {
   "cell_type": "markdown",
   "metadata": {},
   "source": [
    "### Percentage of Rotten Tomatoes Ratings Above \"70%\""
   ]
  },
  {
   "cell_type": "code",
   "execution_count": 15,
   "metadata": {},
   "outputs": [
    {
     "name": "stdout",
     "output_type": "stream",
     "text": [
      "     Netflix: 59%\n",
      "        Hulu: 66%\n",
      " Prime Video: 62%\n",
      "     Disney+: 50%\n"
     ]
    }
   ],
   "source": [
    "for i in range(len(num_top_shows)):\n",
    "    percentage = num_top_shows[i]/(num_top_shows[i] + num_lower_shows[i]) * 100\n",
    "    print(f\"{streaming_services[i]:>12}: {int(percentage)}%\")"
   ]
  }
 ],
 "metadata": {
  "kernelspec": {
   "display_name": "Python 3",
   "language": "python",
   "name": "python3"
  },
  "language_info": {
   "codemirror_mode": {
    "name": "ipython",
    "version": 3
   },
   "file_extension": ".py",
   "mimetype": "text/x-python",
   "name": "python",
   "nbconvert_exporter": "python",
   "pygments_lexer": "ipython3",
   "version": "3.8.5"
  }
 },
 "nbformat": 4,
 "nbformat_minor": 4
}
